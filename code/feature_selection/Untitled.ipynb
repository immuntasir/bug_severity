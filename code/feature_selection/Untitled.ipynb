{
 "cells": [
  {
   "cell_type": "code",
   "execution_count": 1,
   "metadata": {},
   "outputs": [],
   "source": [
    "import pandas as pd\n",
    "import pymrmr\n",
    "import numpy as np"
   ]
  },
  {
   "cell_type": "code",
   "execution_count": 25,
   "metadata": {},
   "outputs": [],
   "source": [
    "X = np.random.rand(5, 10)\n",
    "y = [0, 1, 2, 0, 1]\n",
    "dictionary = {}\n",
    "for itr in range(X.shape[1]):\n",
    "    dictionary[str(itr)] = X[:, itr]\n",
    "dataframe = pd.DataFrame.from_dict(dictionary)\n",
    "dataframe['y'] = pd.Series(y)\n",
    "print(dataframe)"
   ]
  },
  {
   "cell_type": "code",
   "execution_count": 26,
   "metadata": {},
   "outputs": [
    {
     "name": "stdout",
     "output_type": "stream",
     "text": [
      "          0         1         2         3         4         5         6  \\\n",
      "0  0.854221  0.678385  0.457831  0.689686  0.786477  0.902422  0.289157   \n",
      "1  0.566680  0.716810  0.709372  0.541272  0.066866  0.178381  0.713641   \n",
      "2  0.588607  0.629695  0.015738  0.537420  0.877105  0.443560  0.877651   \n",
      "3  0.542575  0.815484  0.024148  0.428211  0.177617  0.252611  0.916701   \n",
      "4  0.538590  0.284963  0.868135  0.440518  0.108443  0.274475  0.238998   \n",
      "\n",
      "          7         8         9  y  \n",
      "0  0.367888  0.367127  0.916141  0  \n",
      "1  0.808805  0.188941  0.570043  1  \n",
      "2  0.187120  0.303533  0.765319  2  \n",
      "3  0.949865  0.523023  0.693957  0  \n",
      "4  0.106843  0.042230  0.160138  1  \n"
     ]
    }
   ],
   "source": []
  },
  {
   "cell_type": "code",
   "execution_count": 29,
   "metadata": {},
   "outputs": [
    {
     "data": {
      "text/plain": [
       "['7', '5', '9', '8', '1']"
      ]
     },
     "execution_count": 29,
     "metadata": {},
     "output_type": "execute_result"
    }
   ],
   "source": [
    "pymrmr.mRMR(dataframe, 'MIQ', 5)"
   ]
  },
  {
   "cell_type": "code",
   "execution_count": 27,
   "metadata": {},
   "outputs": [
    {
     "name": "stdout",
     "output_type": "stream",
     "text": [
      "[[0.85422078 0.6783849  0.45783083 0.68968589 0.78647743 0.90242229\n",
      "  0.28915728 0.36788843 0.3671268  0.91614067]\n",
      " [0.56668006 0.71680963 0.70937243 0.54127167 0.06686574 0.17838114\n",
      "  0.71364061 0.80880459 0.18894074 0.57004319]\n",
      " [0.58860723 0.62969522 0.01573777 0.53741999 0.87710505 0.44355991\n",
      "  0.87765128 0.18711972 0.30353271 0.76531881]\n",
      " [0.54257487 0.81548379 0.02414759 0.42821146 0.17761695 0.25261094\n",
      "  0.91670085 0.94986492 0.52302264 0.69395705]\n",
      " [0.53858988 0.28496338 0.86813479 0.44051844 0.1084428  0.27447534\n",
      "  0.23899818 0.10684293 0.04223021 0.1601379 ]]\n"
     ]
    }
   ],
   "source": [
    "print(X)"
   ]
  },
  {
   "cell_type": "code",
   "execution_count": null,
   "metadata": {},
   "outputs": [],
   "source": []
  }
 ],
 "metadata": {
  "kernelspec": {
   "display_name": "Python 3",
   "language": "python",
   "name": "python3"
  },
  "language_info": {
   "codemirror_mode": {
    "name": "ipython",
    "version": 3
   },
   "file_extension": ".py",
   "mimetype": "text/x-python",
   "name": "python",
   "nbconvert_exporter": "python",
   "pygments_lexer": "ipython3",
   "version": "3.5.2"
  }
 },
 "nbformat": 4,
 "nbformat_minor": 2
}
