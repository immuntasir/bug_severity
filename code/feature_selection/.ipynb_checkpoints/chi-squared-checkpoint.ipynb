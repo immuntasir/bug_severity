{
 "cells": [
  {
   "cell_type": "code",
   "execution_count": 1,
   "metadata": {},
   "outputs": [],
   "source": [
    "# Import pandas\n",
    "import pandas as pd\n",
    "import numpy as np\n",
    "from gensim.corpora import Dictionary\n",
    "from sklearn.model_selection import train_test_split\n"
   ]
  },
  {
   "cell_type": "code",
   "execution_count": 2,
   "metadata": {},
   "outputs": [],
   "source": [
    "# Assign spreadsheet filename to `file`\n",
    "file = '../../data/Eclipse_4sourcev1.xls'\n",
    "# Load spreadsheet\n",
    "xl = pd.ExcelFile(file)\n",
    "# Load a sheet into a DataFrame by name: df1\n",
    "df = xl.parse('total')"
   ]
  },
  {
   "cell_type": "code",
   "execution_count": 3,
   "metadata": {
    "scrolled": true
   },
   "outputs": [
    {
     "name": "stdout",
     "output_type": "stream",
     "text": [
      "Total:  7373\n"
     ]
    }
   ],
   "source": [
    "print('Total: ', len(df))"
   ]
  },
  {
   "cell_type": "code",
   "execution_count": 4,
   "metadata": {},
   "outputs": [],
   "source": [
    "class NaiveBayesClassifer:\n",
    "    def __init__(self):\n",
    "        self.name = 'Naive Bayes Classifier'\n",
    "    \n",
    "    def train (self, X_train, y_train, number_of_unique_words = 100000):\n",
    "        self.prior = np.zeros(5)\n",
    "        labels = list(y_train)\n",
    "        \n",
    "        for i in range(5):\n",
    "            self.prior[i] = labels.count(i)/len(labels)\n",
    "        \n",
    "        self.dictionary = Dictionary()\n",
    "\n",
    "        summaries = list(X_train.loc[:,'summary'])\n",
    "        for summary in summaries:\n",
    "            self.dictionary.add_documents([summary.split()])\n",
    "        \n",
    "        self.number_of_unique_words = len(self.dictionary)\n",
    "        print('Number of unique words:', self.number_of_unique_words)\n",
    "        self.summary_feature = np.ones((len(X_train), self.number_of_unique_words))\n",
    "        self.summary_word_count = np.ones((5, self.number_of_unique_words))\n",
    "        \n",
    "        for i in range(len(summaries)):\n",
    "            summaries[i] = self.dictionary.doc2idx(summaries[i].split())\n",
    "        \n",
    "        for i in range(len(summaries)):\n",
    "            for j in range(len(summaries[i])):\n",
    "                self.summary_feature[i][summaries[i][j]] += 1\n",
    "                self.summary_word_count[labels[i]][summaries[i][j]] += 1\n",
    "        \n",
    "        for i in range(5):\n",
    "            self.summary_word_count[i] /= np.sum(self.summary_word_count[i]) \n",
    "        \n",
    "        \n",
    "        ch2 = SelectKBest(chi2, k=100)\n",
    "        X_new = ch2.fit_transform(summary_feature, np.array(labels))\n",
    "        \n",
    "        self.important_features = ch2.get_support()[0]\n",
    "        \n",
    "        print('Total number of features:', self.number_of_unique_words)\n",
    "        print('Number of selected features:', len(self.important_features))\n",
    "        \n",
    "    def predict (self, X_test):\n",
    "        y_test = np.ones((X_test.shape[0], 5))\n",
    "        \n",
    "        '''\n",
    "        for i in range(X_test.shape[0]):\n",
    "            for j in range(5):\n",
    "                y_test[i][j] = (self.prior[j])\n",
    "        '''\n",
    "        \n",
    "        summaries = list(X_test.loc[:,'summary'])\n",
    "        \n",
    "        for i in range(len(summaries)):\n",
    "            summaries[i] = self.dictionary.doc2idx(summaries[i].split())\n",
    "        \n",
    "        for i in range(X_test.shape[0]):\n",
    "            for lab in range(5):\n",
    "                log_sum_summary = 0\n",
    "                for j in range(len(summaries[i])):\n",
    "                    if (summaries[i][j] != -1 and summaries[i][j] in self.important_features and self.summary_word_count[lab][summaries[i][j]]):\n",
    "                        log_sum_summary += np.log(self.summary_word_count[lab][summaries[i][j]])\n",
    "        \n",
    "                #y_test[i][lab] = np.log(y_test[i][lab])\n",
    "                y_test[i][lab] += ((log_sum_summary))\n",
    "                \n",
    "        \n",
    "        for i in range(X_test.shape[0]):\n",
    "            y_test[i] /= (np.sum(y_test[i]) - y_test[i])\n",
    "            y_test[i] = -y_test[i]\n",
    "            \n",
    "        ret_val = np.zeros(len(y_test))\n",
    "        \n",
    "        cnt = 0\n",
    "        for i in range(X_test.shape[0]):\n",
    "            mx = 0\n",
    "            mxindex = -1\n",
    "            for j in range(5):\n",
    "                if y_test[i][j] != 0:\n",
    "                    if mxindex == -1 or y_test[i][j] > mx:\n",
    "                        mxindex = j\n",
    "                        mx = y_test[i][j]\n",
    "            if mxindex == -1:\n",
    "                cnt += 1\n",
    "                mxindex = cnt % 5\n",
    "            ret_val[i] = mxindex\n",
    "        ret_val =  [int(round(x)) for x in ret_val] \n",
    "        print('Number of random classifications: ',cnt)\n",
    "        return list(ret_val)"
   ]
  },
  {
   "cell_type": "code",
   "execution_count": 5,
   "metadata": {},
   "outputs": [],
   "source": [
    "\n",
    "# create training and testing vars\n",
    "y = df.loc[:,'label'] - 1\n",
    "X = df.loc[:, 'summary':'component']"
   ]
  },
  {
   "cell_type": "code",
   "execution_count": 6,
   "metadata": {},
   "outputs": [],
   "source": [
    "naiveBayesClassifier = NaiveBayesClassifer()"
   ]
  },
  {
   "cell_type": "code",
   "execution_count": null,
   "metadata": {},
   "outputs": [
    {
     "name": "stdout",
     "output_type": "stream",
     "text": [
      "Number of unique words: 1064\n",
      "Total number of features: 1064\n",
      "Number of selected features: 10\n",
      "Number of random classifications:  0\n",
      "Count: Train vs Test\n",
      "6702 698\n",
      "0 1191\n",
      "0 2756\n",
      "0 1268\n",
      "0 789\n",
      "F-measure after  1 th iteration:  [0.18864865 0.         0.         0.         0.        ]\n",
      "Number of unique words: 1493\n"
     ]
    },
    {
     "name": "stderr",
     "output_type": "stream",
     "text": [
      "/usr/local/lib/python3.5/dist-packages/ipykernel_launcher.py:30: RuntimeWarning: invalid value encountered in double_scalars\n"
     ]
    },
    {
     "name": "stdout",
     "output_type": "stream",
     "text": [
      "Total number of features: 1493\n",
      "Number of selected features: 10\n",
      "Number of random classifications:  0\n",
      "Count: Train vs Test\n",
      "6032 662\n",
      "0 1014\n",
      "0 2500\n",
      "0 1133\n",
      "0 723\n",
      "F-measure after  2 th iteration:  [0.19778906 0.         0.         0.         0.        ]\n",
      "Number of unique words: 1955\n",
      "Total number of features: 1955\n",
      "Number of selected features: 10\n",
      "Number of random classifications:  0\n",
      "Count: Train vs Test\n",
      "5362 627\n",
      "0 880\n",
      "0 2227\n",
      "0 1006\n",
      "0 622\n",
      "F-measure after  3 th iteration:  [0.20938387 0.         0.         0.         0.        ]\n",
      "Number of unique words: 2335\n",
      "Total number of features: 2335\n",
      "Number of selected features: 10\n",
      "Number of random classifications:  0\n",
      "Count: Train vs Test\n",
      "4691 595\n",
      "0 773\n",
      "0 1910\n",
      "0 858\n",
      "0 555\n",
      "F-measure after  4 th iteration:  [0.22512297 0.         0.         0.         0.        ]\n",
      "Number of unique words: 2736\n",
      "Total number of features: 2736\n",
      "Number of selected features: 10\n",
      "Number of random classifications:  0\n",
      "Count: Train vs Test\n",
      "4021 553\n",
      "0 644\n",
      "0 1618\n",
      "0 730\n",
      "0 476\n",
      "F-measure after  5 th iteration:  [0.24180149 0.         0.         0.         0.        ]\n",
      "Number of unique words: 3109\n"
     ]
    }
   ],
   "source": [
    "f1_scores = np.zeros((10, 5))\n",
    "f1_scores_list = []\n",
    "for i in range(1,11):\n",
    "    split_point = (len(X)/11) * i\n",
    "    naiveBayesClassifier.train(X_train = X.loc[0:split_point,], y_train = y.loc[0:split_point, ])\n",
    "    y_test = naiveBayesClassifier.predict(X_test = X.loc[split_point:, ])\n",
    "    \n",
    "    \n",
    "    y_label = list(y.loc[split_point:, ])\n",
    "    \n",
    "    #print(y_test, y_label)\n",
    "    #print((y_test == y_label).count(True) / len(y_test))\n",
    "    \n",
    "    \n",
    "    true_positive = np.zeros(5)\n",
    "    \n",
    "    false_positive = np.zeros(5)\n",
    "    false_negative = np.zeros(5)\n",
    "    \n",
    "    for j in range(len(y_test)):\n",
    "        if (y_test[j] == y_label[j]):\n",
    "            true_positive[y_test[j]] += 1\n",
    "        else:\n",
    "            false_positive[y_test[j]] += 1\n",
    "            false_negative[y_label[j]] += 1\n",
    "    \n",
    "    precision = np.zeros(5)\n",
    "    recall = np.zeros(5)\n",
    "    for j in range(5):\n",
    "        precision[j] = true_positive[j] / (true_positive[j] + false_positive[j])\n",
    "        recall[j] = true_positive[j] / (true_positive[j] + false_negative[j])\n",
    "    \n",
    "    for j in range(5):\n",
    "        f1_scores[i-1][j] = (2 * (precision[j] * recall[j])) / (precision[j] + recall[j])\n",
    "        if np.isnan(f1_scores[i-1][j]):\n",
    "            f1_scores[i-1][j] = 0\n",
    "    print('Count: Train vs Test')\n",
    "    print(y_test.count(0), y_label.count(0))\n",
    "    print(y_test.count(1), y_label.count(1))\n",
    "    print(y_test.count(2), y_label.count(2))\n",
    "    print(y_test.count(3), y_label.count(3))\n",
    "    print(y_test.count(4), y_label.count(4))\n",
    "    \n",
    "    print('F-measure after ', i, 'th iteration: ', f1_scores[i-1])\n",
    "    f1_scores_list.append(f1_scores)\n",
    "    pass\n",
    "    "
   ]
  },
  {
   "cell_type": "code",
   "execution_count": null,
   "metadata": {},
   "outputs": [],
   "source": [
    "np.mean(np.array(f1_scores_list[0]), axis = 0)"
   ]
  },
  {
   "cell_type": "code",
   "execution_count": null,
   "metadata": {},
   "outputs": [],
   "source": [
    "# round robin classification:           [0.16300248, 0.17159368, 0.26298052, 0.1744121 , 0.12709789]\n",
    "# without prior without smoothing:      [0.21465332, 0.10047268, 0.05816234, 0.08378671, 0.09948181]\n",
    "# with prior without smoothing:         [0.17769152, 0.12833085, 0.14291655, 0.10463765, 0.0911579 ]\n",
    "# without prior with smoothing:         [0.21558835, 0.23368606, 0.42980058, 0.31752347, 0.2647105 ]\n",
    "# with prior with smoothing:            [0.0466586 , 0.21333919, 0.50649528, 0.30572038, 0.20783305]\n",
    "# with likelihood ratio with smoothing: [0.21558835, 0.23368606, 0.42980058, 0.31752347, 0.2647105 ]"
   ]
  },
  {
   "cell_type": "code",
   "execution_count": null,
   "metadata": {},
   "outputs": [],
   "source": []
  }
 ],
 "metadata": {
  "kernelspec": {
   "display_name": "Python 3",
   "language": "python",
   "name": "python3"
  },
  "language_info": {
   "codemirror_mode": {
    "name": "ipython",
    "version": 3
   },
   "file_extension": ".py",
   "mimetype": "text/x-python",
   "name": "python",
   "nbconvert_exporter": "python",
   "pygments_lexer": "ipython3",
   "version": "3.5.2"
  }
 },
 "nbformat": 4,
 "nbformat_minor": 2
}
