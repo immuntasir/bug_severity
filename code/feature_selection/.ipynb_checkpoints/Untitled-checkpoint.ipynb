{
 "cells": [
  {
   "cell_type": "code",
   "execution_count": 1,
   "metadata": {},
   "outputs": [],
   "source": [
    "import pandas as pd\n",
    "import pymrmr\n",
    "import numpy as np"
   ]
  },
  {
   "cell_type": "code",
   "execution_count": 8,
   "metadata": {},
   "outputs": [],
   "source": [
    "X = np.random.rand(5, 10)\n",
    "y = [0, 1, 2, 0, 1]\n",
    "dictionary = {}\n",
    "for itr in range(len(X.shape[1])):\n",
    "    dictionary[str(itr)] = X[:, i]"
   ]
  },
  {
   "cell_type": "code",
   "execution_count": 14,
   "metadata": {},
   "outputs": [
    {
     "name": "stdout",
     "output_type": "stream",
     "text": [
      "          0         1         2         3         4         5         6  \\\n",
      "0  0.765260  0.884324  0.283255  0.375129  0.442012  0.811813  0.211144   \n",
      "1  0.771378  0.431870  0.459337  0.064596  0.737267  0.854666  0.584371   \n",
      "2  0.433692  0.215226  0.047655  0.599974  0.995521  0.044498  0.206735   \n",
      "3  0.729696  0.995745  0.122377  0.224383  0.132098  0.322451  0.464475   \n",
      "4  0.757518  0.831037  0.188462  0.164687  0.747688  0.865371  0.461703   \n",
      "\n",
      "          7         8         9  y  \n",
      "0  0.983791  0.040292  0.779043  0  \n",
      "1  0.836935  0.112284  0.758044  1  \n",
      "2  0.321656  0.136014  0.458024  2  \n",
      "3  0.952099  0.162973  0.997400  0  \n",
      "4  0.598265  0.013570  0.518524  1  \n"
     ]
    }
   ],
   "source": [
    "dataframe = pd.DataFrame.from_dict(dictionary)\n",
    "dataframe['y'] = pd.Series(y)\n",
    "print(dataframe)"
   ]
  },
  {
   "cell_type": "code",
   "execution_count": 16,
   "metadata": {},
   "outputs": [
    {
     "ename": "AttributeError",
     "evalue": "'int' object has no attribute 'encode'",
     "output_type": "error",
     "traceback": [
      "\u001b[0;31m---------------------------------------------------------------------------\u001b[0m",
      "\u001b[0;31mAttributeError\u001b[0m                            Traceback (most recent call last)",
      "\u001b[0;32m<ipython-input-16-6467bf782b32>\u001b[0m in \u001b[0;36m<module>\u001b[0;34m()\u001b[0m\n\u001b[0;32m----> 1\u001b[0;31m \u001b[0mpymrmr\u001b[0m\u001b[0;34m.\u001b[0m\u001b[0mmRMR\u001b[0m\u001b[0;34m(\u001b[0m\u001b[0mdataframe\u001b[0m\u001b[0;34m,\u001b[0m \u001b[0;34m'MIQ'\u001b[0m\u001b[0;34m,\u001b[0m \u001b[0;36m10\u001b[0m\u001b[0;34m)\u001b[0m\u001b[0;34m\u001b[0m\u001b[0m\n\u001b[0m",
      "\u001b[0;32m/usr/local/lib/python3.5/dist-packages/pymrmr/pymrmr.pyx\u001b[0m in \u001b[0;36mpymrmr.mRMR (pymrmr/pymrmr.cpp:1723)\u001b[0;34m()\u001b[0m\n",
      "\u001b[0;31mAttributeError\u001b[0m: 'int' object has no attribute 'encode'"
     ]
    }
   ],
   "source": [
    "pymrmr.mRMR(dataframe, 'MIQ', 10)"
   ]
  },
  {
   "cell_type": "code",
   "execution_count": 21,
   "metadata": {},
   "outputs": [
    {
     "data": {
      "text/plain": [
       "array([0.88432432, 0.4318701 , 0.21522552, 0.99574506, 0.83103684])"
      ]
     },
     "execution_count": 21,
     "metadata": {},
     "output_type": "execute_result"
    }
   ],
   "source": []
  },
  {
   "cell_type": "code",
   "execution_count": null,
   "metadata": {},
   "outputs": [],
   "source": []
  }
 ],
 "metadata": {
  "kernelspec": {
   "display_name": "Python 3",
   "language": "python",
   "name": "python3"
  },
  "language_info": {
   "codemirror_mode": {
    "name": "ipython",
    "version": 3
   },
   "file_extension": ".py",
   "mimetype": "text/x-python",
   "name": "python",
   "nbconvert_exporter": "python",
   "pygments_lexer": "ipython3",
   "version": "3.5.2"
  }
 },
 "nbformat": 4,
 "nbformat_minor": 2
}
