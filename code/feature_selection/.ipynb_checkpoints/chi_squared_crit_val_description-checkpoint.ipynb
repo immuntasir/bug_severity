{
 "cells": [
  {
   "cell_type": "code",
   "execution_count": 10,
   "metadata": {},
   "outputs": [],
   "source": [
    "# Import pandas\n",
    "import pandas as pd\n",
    "import numpy as np\n",
    "from gensim.corpora import Dictionary\n",
    "from sklearn.model_selection import train_test_split\n",
    "from sklearn.feature_selection import chi2  as chi2\n",
    "from scipy.stats import chi2 as chi2stat\n",
    "\n",
    "from sklearn.feature_selection import mutual_info_classif"
   ]
  },
  {
   "cell_type": "code",
   "execution_count": 11,
   "metadata": {},
   "outputs": [],
   "source": [
    "# Assign spreadsheet filename to `file`\n",
    "file = '../../data/Mozilla_4source.xlsx'\n",
    "# Load spreadsheet\n",
    "xl = pd.ExcelFile(file)\n",
    "# Load a sheet into a DataFrame by name: df1\n",
    "df = xl.parse('total')"
   ]
  },
  {
   "cell_type": "code",
   "execution_count": 12,
   "metadata": {
    "scrolled": true
   },
   "outputs": [
    {
     "name": "stdout",
     "output_type": "stream",
     "text": [
      "Total:  2635\n"
     ]
    }
   ],
   "source": [
    "print('Total: ', len(df))"
   ]
  },
  {
   "cell_type": "code",
   "execution_count": 33,
   "metadata": {},
   "outputs": [
    {
     "ename": "SyntaxError",
     "evalue": "invalid syntax (<ipython-input-33-eb387171a9f9>, line 42)",
     "output_type": "error",
     "traceback": [
      "\u001b[0;36m  File \u001b[0;32m\"<ipython-input-33-eb387171a9f9>\"\u001b[0;36m, line \u001b[0;32m42\u001b[0m\n\u001b[0;31m    if (mutual_informatioN > chicritval) self.important_features.append(i)\u001b[0m\n\u001b[0m                                            ^\u001b[0m\n\u001b[0;31mSyntaxError\u001b[0m\u001b[0;31m:\u001b[0m invalid syntax\n"
     ]
    }
   ],
   "source": [
    "class NaiveBayesClassifer:\n",
    "    def __init__(self):\n",
    "        self.name = 'Naive Bayes Classifier'\n",
    "    \n",
    "    def train (self, X_train, y_train, number_of_unique_words = 100000):\n",
    "        self.prior = np.zeros(5)\n",
    "        labels = list(y_train)\n",
    "        \n",
    "        for i in range(5):\n",
    "            self.prior[i] = labels.count(i)/len(labels)\n",
    "        \n",
    "        self.dictionary = Dictionary()\n",
    "\n",
    "        summaries = list(X_train.loc[:,'description'])\n",
    "        for summary in summaries:\n",
    "            self.dictionary.add_documents([summary.split()])\n",
    "        \n",
    "        self.number_of_unique_words = len(self.dictionary)\n",
    "        print('Number of unique words:', self.number_of_unique_words)\n",
    "        self.summary_feature = np.ones((len(X_train), self.number_of_unique_words))\n",
    "        self.summary_feature_selection = np.zeros((len(X_train), self.number_of_unique_words))\n",
    "        self.summary_word_count = np.ones((5, self.number_of_unique_words))\n",
    "        \n",
    "        for i in range(len(summaries)):\n",
    "            summaries[i] = self.dictionary.doc2idx(summaries[i].split())\n",
    "        \n",
    "        for i in range(len(summaries)):\n",
    "            for j in range(len(summaries[i])):\n",
    "                self.summary_feature[i][summaries[i][j]] += 1\n",
    "                self.summary_feature_selection[i][summaries[i][j]] += 1\n",
    "                self.summary_word_count[labels[i]][summaries[i][j]] += 1\n",
    "        \n",
    "        for i in range(5):\n",
    "            self.summary_word_count[i] /= np.sum(self.summary_word_count[i]) \n",
    "        \n",
    "        self.important_features = []\n",
    "        \n",
    "        for i in range(self.summary_feature.shape[1]):\n",
    "            number_of_unique_values = len(np.unique(self.summary_feature_selection[:, i]))\n",
    "            mutual_information = mutual_info_classif(self.summary_feature_selection[:, i], np.array(labels))\n",
    "            chicritval = chi2stat.ppf(.99, number_of_unique_values - 1) / (2 * self.summary_feature.shape[0] * np.log(2))\n",
    "            if (mutual_informatioN > chicritval):\n",
    "                self.important_features.append(i)\n",
    "            \n",
    "        del self.summary_feature_selection\n",
    "        \n",
    "        print('Total number of features:', self.number_of_unique_words)\n",
    "        print('Number of selected features:', len(self.important_features))\n",
    "        \n",
    "    def predict (self, X_test):\n",
    "        y_test = np.ones((X_test.shape[0], 5))\n",
    "        \n",
    "        '''\n",
    "        for i in range(X_test.shape[0]):\n",
    "            for j in range(5):\n",
    "                y_test[i][j] = (self.prior[j])\n",
    "        '''\n",
    "        \n",
    "        summaries = list(X_test.loc[:,'description'])\n",
    "        \n",
    "        for i in range(len(summaries)):\n",
    "            summaries[i] = self.dictionary.doc2idx(summaries[i].split())\n",
    "        \n",
    "        for i in range(X_test.shape[0]):\n",
    "            for lab in range(5):\n",
    "                log_sum_summary = 0\n",
    "                for j in range(len(summaries[i])):\n",
    "                    if (summaries[i][j] != -1 and summaries[i][j] in self.important_features and self.summary_word_count[lab][summaries[i][j]]):\n",
    "                        log_sum_summary += np.log(self.summary_word_count[lab][summaries[i][j]])\n",
    "        \n",
    "                #y_test[i][lab] = np.log(y_test[i][lab])\n",
    "                y_test[i][lab] += ((log_sum_summary))\n",
    "                \n",
    "        \n",
    "        for i in range(X_test.shape[0]):\n",
    "            y_test[i] /= (np.sum(y_test[i]) - y_test[i])\n",
    "            y_test[i] = -y_test[i]\n",
    "            \n",
    "        ret_val = np.zeros(len(y_test))\n",
    "        \n",
    "        cnt = 0\n",
    "        for i in range(X_test.shape[0]):\n",
    "            mx = 0\n",
    "            mxindex = -1\n",
    "            for j in range(5):\n",
    "                if y_test[i][j] != 0:\n",
    "                    if mxindex == -1 or y_test[i][j] > mx:\n",
    "                        mxindex = j\n",
    "                        mx = y_test[i][j]\n",
    "            if mxindex == -1:\n",
    "                cnt += 1\n",
    "                mxindex = cnt % 5\n",
    "            ret_val[i] = mxindex\n",
    "        ret_val =  [int(round(x)) for x in ret_val] \n",
    "        print('Number of random classifications: ',cnt)\n",
    "        return list(ret_val)"
   ]
  },
  {
   "cell_type": "code",
   "execution_count": 34,
   "metadata": {},
   "outputs": [],
   "source": [
    "\n",
    "# create training and testing vars\n",
    "y = df.loc[:,'label'] - 1\n",
    "X = df.loc[:, 'summary':'component']"
   ]
  },
  {
   "cell_type": "code",
   "execution_count": 31,
   "metadata": {},
   "outputs": [],
   "source": [
    "naiveBayesClassifier = NaiveBayesClassifer()"
   ]
  },
  {
   "cell_type": "code",
   "execution_count": 32,
   "metadata": {},
   "outputs": [
    {
     "name": "stdout",
     "output_type": "stream",
     "text": [
      "Number of unique words: 2373\n",
      "Total number of features: 2373\n",
      "Number of selected features: 0\n",
      "Number of random classifications:  0\n",
      "Count: Train vs Test\n",
      "2395 278\n",
      "0 459\n",
      "0 643\n",
      "0 612\n",
      "0 403\n",
      "F-measure after  1 th iteration:  [0.20800599 0.         0.         0.         0.        ]\n",
      "Number of unique words: 3528\n"
     ]
    },
    {
     "name": "stderr",
     "output_type": "stream",
     "text": [
      "/usr/local/lib/python3.5/dist-packages/ipykernel_launcher.py:30: RuntimeWarning: invalid value encountered in double_scalars\n"
     ]
    },
    {
     "ename": "KeyboardInterrupt",
     "evalue": "",
     "output_type": "error",
     "traceback": [
      "\u001b[0;31m---------------------------------------------------------------------------\u001b[0m",
      "\u001b[0;31mKeyboardInterrupt\u001b[0m                         Traceback (most recent call last)",
      "\u001b[0;32m<ipython-input-32-6f047238f2de>\u001b[0m in \u001b[0;36m<module>\u001b[0;34m()\u001b[0m\n\u001b[1;32m      3\u001b[0m \u001b[0;32mfor\u001b[0m \u001b[0mi\u001b[0m \u001b[0;32min\u001b[0m \u001b[0mrange\u001b[0m\u001b[0;34m(\u001b[0m\u001b[0;36m1\u001b[0m\u001b[0;34m,\u001b[0m\u001b[0;36m11\u001b[0m\u001b[0;34m)\u001b[0m\u001b[0;34m:\u001b[0m\u001b[0;34m\u001b[0m\u001b[0m\n\u001b[1;32m      4\u001b[0m     \u001b[0msplit_point\u001b[0m \u001b[0;34m=\u001b[0m \u001b[0;34m(\u001b[0m\u001b[0mlen\u001b[0m\u001b[0;34m(\u001b[0m\u001b[0mX\u001b[0m\u001b[0;34m)\u001b[0m\u001b[0;34m/\u001b[0m\u001b[0;36m11\u001b[0m\u001b[0;34m)\u001b[0m \u001b[0;34m*\u001b[0m \u001b[0mi\u001b[0m\u001b[0;34m\u001b[0m\u001b[0m\n\u001b[0;32m----> 5\u001b[0;31m     \u001b[0mnaiveBayesClassifier\u001b[0m\u001b[0;34m.\u001b[0m\u001b[0mtrain\u001b[0m\u001b[0;34m(\u001b[0m\u001b[0mX_train\u001b[0m \u001b[0;34m=\u001b[0m \u001b[0mX\u001b[0m\u001b[0;34m.\u001b[0m\u001b[0mloc\u001b[0m\u001b[0;34m[\u001b[0m\u001b[0;36m0\u001b[0m\u001b[0;34m:\u001b[0m\u001b[0msplit_point\u001b[0m\u001b[0;34m,\u001b[0m\u001b[0;34m]\u001b[0m\u001b[0;34m,\u001b[0m \u001b[0my_train\u001b[0m \u001b[0;34m=\u001b[0m \u001b[0my\u001b[0m\u001b[0;34m.\u001b[0m\u001b[0mloc\u001b[0m\u001b[0;34m[\u001b[0m\u001b[0;36m0\u001b[0m\u001b[0;34m:\u001b[0m\u001b[0msplit_point\u001b[0m\u001b[0;34m,\u001b[0m \u001b[0;34m]\u001b[0m\u001b[0;34m)\u001b[0m\u001b[0;34m\u001b[0m\u001b[0m\n\u001b[0m\u001b[1;32m      6\u001b[0m     \u001b[0my_test\u001b[0m \u001b[0;34m=\u001b[0m \u001b[0mnaiveBayesClassifier\u001b[0m\u001b[0;34m.\u001b[0m\u001b[0mpredict\u001b[0m\u001b[0;34m(\u001b[0m\u001b[0mX_test\u001b[0m \u001b[0;34m=\u001b[0m \u001b[0mX\u001b[0m\u001b[0;34m.\u001b[0m\u001b[0mloc\u001b[0m\u001b[0;34m[\u001b[0m\u001b[0msplit_point\u001b[0m\u001b[0;34m:\u001b[0m\u001b[0;34m,\u001b[0m \u001b[0;34m]\u001b[0m\u001b[0;34m)\u001b[0m\u001b[0;34m\u001b[0m\u001b[0m\n\u001b[1;32m      7\u001b[0m \u001b[0;34m\u001b[0m\u001b[0m\n",
      "\u001b[0;32m<ipython-input-29-bc34be51bdfd>\u001b[0m in \u001b[0;36mtrain\u001b[0;34m(self, X_train, y_train, number_of_unique_words)\u001b[0m\n\u001b[1;32m     37\u001b[0m \u001b[0;34m\u001b[0m\u001b[0m\n\u001b[1;32m     38\u001b[0m         \u001b[0;31m#chi2_stats = chi2(self.summary_feature_selection, np.array(labels))\u001b[0m\u001b[0;34m\u001b[0m\u001b[0;34m\u001b[0m\u001b[0m\n\u001b[0;32m---> 39\u001b[0;31m         \u001b[0mmutual_information\u001b[0m \u001b[0;34m=\u001b[0m \u001b[0mmutual_info_classif\u001b[0m\u001b[0;34m(\u001b[0m\u001b[0mself\u001b[0m\u001b[0;34m.\u001b[0m\u001b[0msummary_feature_selection\u001b[0m\u001b[0;34m,\u001b[0m \u001b[0mnp\u001b[0m\u001b[0;34m.\u001b[0m\u001b[0marray\u001b[0m\u001b[0;34m(\u001b[0m\u001b[0mlabels\u001b[0m\u001b[0;34m)\u001b[0m\u001b[0;34m)\u001b[0m\u001b[0;34m\u001b[0m\u001b[0m\n\u001b[0m\u001b[1;32m     40\u001b[0m         \u001b[0mchicritval\u001b[0m \u001b[0;34m=\u001b[0m \u001b[0mchi2stat\u001b[0m\u001b[0;34m.\u001b[0m\u001b[0mppf\u001b[0m\u001b[0;34m(\u001b[0m\u001b[0;36m.99\u001b[0m\u001b[0;34m,\u001b[0m \u001b[0mnumber_of_unique_values\u001b[0m \u001b[0;34m-\u001b[0m \u001b[0;36m1\u001b[0m\u001b[0;34m)\u001b[0m \u001b[0;34m/\u001b[0m \u001b[0;34m(\u001b[0m\u001b[0;36m2\u001b[0m \u001b[0;34m*\u001b[0m \u001b[0mself\u001b[0m\u001b[0;34m.\u001b[0m\u001b[0msummary_feature\u001b[0m\u001b[0;34m.\u001b[0m\u001b[0mshape\u001b[0m\u001b[0;34m[\u001b[0m\u001b[0;36m0\u001b[0m\u001b[0;34m]\u001b[0m \u001b[0;34m*\u001b[0m \u001b[0mnp\u001b[0m\u001b[0;34m.\u001b[0m\u001b[0mlog\u001b[0m\u001b[0;34m(\u001b[0m\u001b[0;36m2\u001b[0m\u001b[0;34m)\u001b[0m\u001b[0;34m)\u001b[0m\u001b[0;34m\u001b[0m\u001b[0m\n\u001b[1;32m     41\u001b[0m         \u001b[0mself\u001b[0m\u001b[0;34m.\u001b[0m\u001b[0mimportant_features\u001b[0m \u001b[0;34m=\u001b[0m \u001b[0mnp\u001b[0m\u001b[0;34m.\u001b[0m\u001b[0mwhere\u001b[0m\u001b[0;34m(\u001b[0m\u001b[0mmutual_information\u001b[0m \u001b[0;34m>\u001b[0m \u001b[0mchicritval\u001b[0m\u001b[0;34m)\u001b[0m\u001b[0;34m[\u001b[0m\u001b[0;36m0\u001b[0m\u001b[0;34m]\u001b[0m\u001b[0;34m\u001b[0m\u001b[0m\n",
      "\u001b[0;32m/usr/local/lib/python3.5/dist-packages/sklearn/feature_selection/mutual_info_.py\u001b[0m in \u001b[0;36mmutual_info_classif\u001b[0;34m(X, y, discrete_features, n_neighbors, copy, random_state)\u001b[0m\n\u001b[1;32m    448\u001b[0m     \u001b[0mcheck_classification_targets\u001b[0m\u001b[0;34m(\u001b[0m\u001b[0my\u001b[0m\u001b[0;34m)\u001b[0m\u001b[0;34m\u001b[0m\u001b[0m\n\u001b[1;32m    449\u001b[0m     return _estimate_mi(X, y, discrete_features, True, n_neighbors,\n\u001b[0;32m--> 450\u001b[0;31m                         copy, random_state)\n\u001b[0m",
      "\u001b[0;32m/usr/local/lib/python3.5/dist-packages/sklearn/feature_selection/mutual_info_.py\u001b[0m in \u001b[0;36m_estimate_mi\u001b[0;34m(X, y, discrete_features, discrete_target, n_neighbors, copy, random_state)\u001b[0m\n\u001b[1;32m    287\u001b[0m \u001b[0;34m\u001b[0m\u001b[0m\n\u001b[1;32m    288\u001b[0m     mi = [_compute_mi(x, y, discrete_feature, discrete_target, n_neighbors) for\n\u001b[0;32m--> 289\u001b[0;31m           x, discrete_feature in moves.zip(_iterate_columns(X), discrete_mask)]\n\u001b[0m\u001b[1;32m    290\u001b[0m \u001b[0;34m\u001b[0m\u001b[0m\n\u001b[1;32m    291\u001b[0m     \u001b[0;32mreturn\u001b[0m \u001b[0mnp\u001b[0m\u001b[0;34m.\u001b[0m\u001b[0marray\u001b[0m\u001b[0;34m(\u001b[0m\u001b[0mmi\u001b[0m\u001b[0;34m)\u001b[0m\u001b[0;34m\u001b[0m\u001b[0m\n",
      "\u001b[0;32m/usr/local/lib/python3.5/dist-packages/sklearn/feature_selection/mutual_info_.py\u001b[0m in \u001b[0;36m<listcomp>\u001b[0;34m(.0)\u001b[0m\n\u001b[1;32m    287\u001b[0m \u001b[0;34m\u001b[0m\u001b[0m\n\u001b[1;32m    288\u001b[0m     mi = [_compute_mi(x, y, discrete_feature, discrete_target, n_neighbors) for\n\u001b[0;32m--> 289\u001b[0;31m           x, discrete_feature in moves.zip(_iterate_columns(X), discrete_mask)]\n\u001b[0m\u001b[1;32m    290\u001b[0m \u001b[0;34m\u001b[0m\u001b[0m\n\u001b[1;32m    291\u001b[0m     \u001b[0;32mreturn\u001b[0m \u001b[0mnp\u001b[0m\u001b[0;34m.\u001b[0m\u001b[0marray\u001b[0m\u001b[0;34m(\u001b[0m\u001b[0mmi\u001b[0m\u001b[0;34m)\u001b[0m\u001b[0;34m\u001b[0m\u001b[0m\n",
      "\u001b[0;32m/usr/local/lib/python3.5/dist-packages/sklearn/feature_selection/mutual_info_.py\u001b[0m in \u001b[0;36m_compute_mi\u001b[0;34m(x, y, x_discrete, y_discrete, n_neighbors)\u001b[0m\n\u001b[1;32m    159\u001b[0m         \u001b[0;32mreturn\u001b[0m \u001b[0m_compute_mi_cd\u001b[0m\u001b[0;34m(\u001b[0m\u001b[0my\u001b[0m\u001b[0;34m,\u001b[0m \u001b[0mx\u001b[0m\u001b[0;34m,\u001b[0m \u001b[0mn_neighbors\u001b[0m\u001b[0;34m)\u001b[0m\u001b[0;34m\u001b[0m\u001b[0m\n\u001b[1;32m    160\u001b[0m     \u001b[0;32melif\u001b[0m \u001b[0;32mnot\u001b[0m \u001b[0mx_discrete\u001b[0m \u001b[0;32mand\u001b[0m \u001b[0my_discrete\u001b[0m\u001b[0;34m:\u001b[0m\u001b[0;34m\u001b[0m\u001b[0m\n\u001b[0;32m--> 161\u001b[0;31m         \u001b[0;32mreturn\u001b[0m \u001b[0m_compute_mi_cd\u001b[0m\u001b[0;34m(\u001b[0m\u001b[0mx\u001b[0m\u001b[0;34m,\u001b[0m \u001b[0my\u001b[0m\u001b[0;34m,\u001b[0m \u001b[0mn_neighbors\u001b[0m\u001b[0;34m)\u001b[0m\u001b[0;34m\u001b[0m\u001b[0m\n\u001b[0m\u001b[1;32m    162\u001b[0m     \u001b[0;32melse\u001b[0m\u001b[0;34m:\u001b[0m\u001b[0;34m\u001b[0m\u001b[0m\n\u001b[1;32m    163\u001b[0m         \u001b[0;32mreturn\u001b[0m \u001b[0m_compute_mi_cc\u001b[0m\u001b[0;34m(\u001b[0m\u001b[0mx\u001b[0m\u001b[0;34m,\u001b[0m \u001b[0my\u001b[0m\u001b[0;34m,\u001b[0m \u001b[0mn_neighbors\u001b[0m\u001b[0;34m)\u001b[0m\u001b[0;34m\u001b[0m\u001b[0m\n",
      "\u001b[0;32m/usr/local/lib/python3.5/dist-packages/sklearn/feature_selection/mutual_info_.py\u001b[0m in \u001b[0;36m_compute_mi_cd\u001b[0;34m(c, d, n_neighbors)\u001b[0m\n\u001b[1;32m    138\u001b[0m     \u001b[0mnn\u001b[0m\u001b[0;34m.\u001b[0m\u001b[0mset_params\u001b[0m\u001b[0;34m(\u001b[0m\u001b[0malgorithm\u001b[0m\u001b[0;34m=\u001b[0m\u001b[0;34m'kd_tree'\u001b[0m\u001b[0;34m)\u001b[0m\u001b[0;34m\u001b[0m\u001b[0m\n\u001b[1;32m    139\u001b[0m     \u001b[0mnn\u001b[0m\u001b[0;34m.\u001b[0m\u001b[0mfit\u001b[0m\u001b[0;34m(\u001b[0m\u001b[0mc\u001b[0m\u001b[0;34m)\u001b[0m\u001b[0;34m\u001b[0m\u001b[0m\n\u001b[0;32m--> 140\u001b[0;31m     \u001b[0mind\u001b[0m \u001b[0;34m=\u001b[0m \u001b[0mnn\u001b[0m\u001b[0;34m.\u001b[0m\u001b[0mradius_neighbors\u001b[0m\u001b[0;34m(\u001b[0m\u001b[0mradius\u001b[0m\u001b[0;34m=\u001b[0m\u001b[0mradius\u001b[0m\u001b[0;34m,\u001b[0m \u001b[0mreturn_distance\u001b[0m\u001b[0;34m=\u001b[0m\u001b[0;32mFalse\u001b[0m\u001b[0;34m)\u001b[0m\u001b[0;34m\u001b[0m\u001b[0m\n\u001b[0m\u001b[1;32m    141\u001b[0m     \u001b[0mm_all\u001b[0m \u001b[0;34m=\u001b[0m \u001b[0mnp\u001b[0m\u001b[0;34m.\u001b[0m\u001b[0marray\u001b[0m\u001b[0;34m(\u001b[0m\u001b[0;34m[\u001b[0m\u001b[0mi\u001b[0m\u001b[0;34m.\u001b[0m\u001b[0msize\u001b[0m \u001b[0;32mfor\u001b[0m \u001b[0mi\u001b[0m \u001b[0;32min\u001b[0m \u001b[0mind\u001b[0m\u001b[0;34m]\u001b[0m\u001b[0;34m)\u001b[0m\u001b[0;34m\u001b[0m\u001b[0m\n\u001b[1;32m    142\u001b[0m \u001b[0;34m\u001b[0m\u001b[0m\n",
      "\u001b[0;32m/usr/local/lib/python3.5/dist-packages/sklearn/neighbors/base.py\u001b[0m in \u001b[0;36mradius_neighbors\u001b[0;34m(self, X, radius, return_distance)\u001b[0m\n\u001b[1;32m    623\u001b[0m                     \"or set algorithm='brute'\" % self._fit_method)\n\u001b[1;32m    624\u001b[0m             results = self._tree.query_radius(X, radius,\n\u001b[0;32m--> 625\u001b[0;31m                                               return_distance=return_distance)\n\u001b[0m\u001b[1;32m    626\u001b[0m             \u001b[0;32mif\u001b[0m \u001b[0mreturn_distance\u001b[0m\u001b[0;34m:\u001b[0m\u001b[0;34m\u001b[0m\u001b[0m\n\u001b[1;32m    627\u001b[0m                 \u001b[0mresults\u001b[0m \u001b[0;34m=\u001b[0m \u001b[0mresults\u001b[0m\u001b[0;34m[\u001b[0m\u001b[0;34m:\u001b[0m\u001b[0;34m:\u001b[0m\u001b[0;34m-\u001b[0m\u001b[0;36m1\u001b[0m\u001b[0;34m]\u001b[0m\u001b[0;34m\u001b[0m\u001b[0m\n",
      "\u001b[0;31mKeyboardInterrupt\u001b[0m: "
     ]
    }
   ],
   "source": [
    "f1_scores = np.zeros((10, 5))\n",
    "f1_scores_list = []\n",
    "for i in range(1,11):\n",
    "    split_point = (len(X)/11) * i\n",
    "    naiveBayesClassifier.train(X_train = X.loc[0:split_point,], y_train = y.loc[0:split_point, ])\n",
    "    y_test = naiveBayesClassifier.predict(X_test = X.loc[split_point:, ])\n",
    "    \n",
    "    \n",
    "    y_label = list(y.loc[split_point:, ])\n",
    "    \n",
    "    #print(y_test, y_label)\n",
    "    #print((y_test == y_label).count(True) / len(y_test))\n",
    "    \n",
    "    \n",
    "    true_positive = np.zeros(5)\n",
    "    \n",
    "    false_positive = np.zeros(5)\n",
    "    false_negative = np.zeros(5)\n",
    "    \n",
    "    for j in range(len(y_test)):\n",
    "        if (y_test[j] == y_label[j]):\n",
    "            true_positive[y_test[j]] += 1\n",
    "        else:\n",
    "            false_positive[y_test[j]] += 1\n",
    "            false_negative[y_label[j]] += 1\n",
    "    \n",
    "    precision = np.zeros(5)\n",
    "    recall = np.zeros(5)\n",
    "    for j in range(5):\n",
    "        precision[j] = true_positive[j] / (true_positive[j] + false_positive[j])\n",
    "        recall[j] = true_positive[j] / (true_positive[j] + false_negative[j])\n",
    "    \n",
    "    for j in range(5):\n",
    "        f1_scores[i-1][j] = (2 * (precision[j] * recall[j])) / (precision[j] + recall[j])\n",
    "        if np.isnan(f1_scores[i-1][j]):\n",
    "            f1_scores[i-1][j] = 0\n",
    "    print('Count: Train vs Test')\n",
    "    print(y_test.count(0), y_label.count(0))\n",
    "    print(y_test.count(1), y_label.count(1))\n",
    "    print(y_test.count(2), y_label.count(2))\n",
    "    print(y_test.count(3), y_label.count(3))\n",
    "    print(y_test.count(4), y_label.count(4))\n",
    "    \n",
    "    print('F-measure after ', i, 'th iteration: ', f1_scores[i-1])\n",
    "    f1_scores_list.append(f1_scores)\n",
    "    pass\n",
    "    "
   ]
  },
  {
   "cell_type": "code",
   "execution_count": 9,
   "metadata": {},
   "outputs": [
    {
     "data": {
      "text/plain": [
       "array([0.29950364, 0.02643394, 0.08867727, 0.3327872 , 0.17305156])"
      ]
     },
     "execution_count": 9,
     "metadata": {},
     "output_type": "execute_result"
    }
   ],
   "source": [
    "np.mean(np.array(f1_scores_list[0]), axis = 0)"
   ]
  },
  {
   "cell_type": "code",
   "execution_count": 9,
   "metadata": {},
   "outputs": [],
   "source": [
    "# Eclipse: \n",
    "# round robin classification:           [0.16300248, 0.17159368, 0.26298052, 0.1744121 , 0.12709789]\n",
    "# without prior without smoothing:      [0.21465332, 0.10047268, 0.05816234, 0.08378671, 0.09948181]\n",
    "# with prior without smoothing:         [0.17769152, 0.12833085, 0.14291655, 0.10463765, 0.0911579 ]\n",
    "# without prior with smoothing:         [0.21558835, 0.23368606, 0.42980058, 0.31752347, 0.2647105 ]\n",
    "# with prior with smoothing:            [0.0466586 , 0.21333919, 0.50649528, 0.30572038, 0.20783305]\n",
    "# with likelihood ratio with smoothing: [0.21558835, 0.23368606, 0.42980058, 0.31752347, 0.2647105 ]\n",
    "# p-value > .9 (1062):                  [0.21582993, 0.23066638, 0.42998575, 0.30339254, 0.24177725]\n",
    "\n",
    "# Mozilla:\n",
    "# critval - description:                [0.29950364, 0.02643394, 0.08867727, 0.3327872 , 0.17305156]\n"
   ]
  },
  {
   "cell_type": "code",
   "execution_count": null,
   "metadata": {},
   "outputs": [],
   "source": [
    "[0.07925408 0.00615385 0.01660735 0.25118036 0.17888563]"
   ]
  }
 ],
 "metadata": {
  "kernelspec": {
   "display_name": "Python 3",
   "language": "python",
   "name": "python3"
  },
  "language_info": {
   "codemirror_mode": {
    "name": "ipython",
    "version": 3
   },
   "file_extension": ".py",
   "mimetype": "text/x-python",
   "name": "python",
   "nbconvert_exporter": "python",
   "pygments_lexer": "ipython3",
   "version": "3.5.2"
  }
 },
 "nbformat": 4,
 "nbformat_minor": 2
}
